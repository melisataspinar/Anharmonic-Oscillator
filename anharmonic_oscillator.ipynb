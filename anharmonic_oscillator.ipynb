{
  "nbformat": 4,
  "nbformat_minor": 0,
  "metadata": {
    "colab": {
      "provenance": []
    },
    "kernelspec": {
      "name": "python3",
      "display_name": "Python 3"
    },
    "language_info": {
      "name": "python"
    }
  },
  "cells": [
    {
      "cell_type": "markdown",
      "source": [
        "#Solving the Anharmonic Oscillator Problem Using Runge–Kutta Methods & the Modified-Euler Algorithm\n",
        "\n",
        "----------------------------------------------------"
      ],
      "metadata": {
        "id": "xnY_GPHU61Lo"
      }
    },
    {
      "cell_type": "code",
      "source": [
        "import math\n",
        "from matplotlib import pyplot as plt\n",
        "from scipy.integrate import odeint\n",
        "import numpy as np"
      ],
      "metadata": {
        "id": "3KWEig4FXA25"
      },
      "execution_count": null,
      "outputs": []
    },
    {
      "cell_type": "markdown",
      "source": [
        "#1. Runge-Kutta\n",
        "\n",
        "Here, let us write our own rk2 & rk4 functions."
      ],
      "metadata": {
        "id": "rQf7U5OSiOrb"
      }
    },
    {
      "cell_type": "markdown",
      "source": [
        "Function for the anharmonic oscillator equation:"
      ],
      "metadata": {
        "id": "X3Oki_lwXDBK"
      }
    },
    {
      "cell_type": "code",
      "source": [
        "def f(t, x, k, alpha):\n",
        "  return k * x * ( 1 - alpha * x )"
      ],
      "metadata": {
        "id": "11VUPUFD31GH"
      },
      "execution_count": null,
      "outputs": []
    },
    {
      "cell_type": "markdown",
      "source": [
        "Function for rk2:"
      ],
      "metadata": {
        "id": "fmJBdAbYXGUf"
      }
    },
    {
      "cell_type": "code",
      "source": [
        "def rk2( x, x0, y0, h, k, alpha ) :\n",
        "  N = math.ceil( (x - x0) / h )\n",
        "\n",
        "  y = y0\n",
        "  for i in range(N):\n",
        "    K1 = h * f( x0, y, k, alpha )\n",
        "    K2 = h * f( x0 + h / 2, y + K1 / 2, k, alpha )\n",
        "\n",
        "    x0 += h\n",
        "    y += (K1 + 2 * K2) / 6\n",
        "\n",
        "  return y"
      ],
      "metadata": {
        "id": "LPxULA1I2KWY"
      },
      "execution_count": null,
      "outputs": []
    },
    {
      "cell_type": "markdown",
      "source": [
        "(b)\n",
        "\n",
        "Solving the anharmonic oscillator equation using our rk2 function:"
      ],
      "metadata": {
        "id": "hgkC1pOE4y6B"
      }
    },
    {
      "cell_type": "code",
      "source": [
        "x = 1\n",
        "x0 = 0\n",
        "y0 = 0.4\n",
        "h = 0.1\n",
        "\n",
        "k = 1\n",
        "alpha = 0.0\n",
        "\n",
        "print( \"y_final = \", rk2( x, x0, y0, h, k, alpha ) )"
      ],
      "metadata": {
        "colab": {
          "base_uri": "https://localhost:8080/"
        },
        "id": "vtC0vxq5N7tq",
        "outputId": "35967a5d-f656-467e-cf9c-c9b0cd7e81ca"
      },
      "execution_count": null,
      "outputs": [
        {
          "output_type": "stream",
          "name": "stdout",
          "text": [
            "y_final =  0.6619742251489092\n"
          ]
        }
      ]
    },
    {
      "cell_type": "markdown",
      "source": [
        "(c)\n",
        "\n",
        "For an anharmonic oscillator, we find that\n",
        "\n",
        "T = 4 * sqrt( m / 2ka ) * I\n",
        "\n",
        "where I is the definite integral, from 0 to 1, of 1/sqrt(1-x^3).\n",
        "\n",
        "--------------------------------------------\n",
        "\n",
        "Taking a = 1 as well as k = 1 and m = 1, we get T ~ 3.966"
      ],
      "metadata": {
        "id": "gQlRJ4Dt5am2"
      }
    },
    {
      "cell_type": "code",
      "source": [
        "x = 1\n",
        "x0 = 0\n",
        "y0 = 0.4\n",
        "h = 0.3\n",
        "\n",
        "k = 1\n",
        "alpha = 0.0\n",
        "\n",
        "print( \"y_final = \", rk2( x, x0, y0, h, k, alpha ) )"
      ],
      "metadata": {
        "colab": {
          "base_uri": "https://localhost:8080/"
        },
        "id": "aw7gDSgj6toZ",
        "outputId": "20c92494-3357-4fc3-d1b2-fd3dac42ecff"
      },
      "execution_count": null,
      "outputs": [
        {
          "output_type": "stream",
          "name": "stdout",
          "text": [
            "y_final =  0.73682388025\n"
          ]
        }
      ]
    },
    {
      "cell_type": "markdown",
      "source": [
        "(d)"
      ],
      "metadata": {
        "id": "8xSC7C666ygN"
      }
    },
    {
      "cell_type": "markdown",
      "source": [
        "Using rk4:"
      ],
      "metadata": {
        "id": "3_zlkxAPu1Kz"
      }
    },
    {
      "cell_type": "code",
      "source": [
        "def f(t, x):\n",
        "  k = 1\n",
        "  alpha = 0\n",
        "  return k * x * ( 1 - alpha * x )\n",
        "\n",
        "def rk4( x0, y0, xn, h ):\n",
        "    N = math.ceil( (x - x0) / h )\n",
        "\n",
        "    for i in range(N):\n",
        "        K1 = f( x0, y0 ) * h\n",
        "        K2 = f( ( x0 + h / 2 ), ( y0 + K1  /2 ) ) * h\n",
        "        K3 = f( ( x0 + h / 2 ), ( y0 + K2 / 2 ) ) * h\n",
        "        K4 = f( ( x0 + h ), ( y0 + K3 ) ) * h\n",
        "\n",
        "        yn = y0 + ( K1 + 2 * K2 + 2 * K3 + K4 ) / 6\n",
        "\n",
        "        x0 += h\n",
        "        y0 = yn\n",
        "\n",
        "    return yn\n",
        "\n",
        "x0 = 0\n",
        "y0 = 0.4\n",
        "xn = 1\n",
        "h = 0.3\n",
        "\n",
        "print( \"y_final = \", rk4( x0, y0, xn, h ) )"
      ],
      "metadata": {
        "colab": {
          "base_uri": "https://localhost:8080/"
        },
        "id": "FwST6zrtu2wo",
        "outputId": "e1530aed-f0e0-4f2f-df60-bf966204e23f"
      },
      "execution_count": null,
      "outputs": [
        {
          "output_type": "stream",
          "name": "stdout",
          "text": [
            "y_final =  1.3279629179916694\n"
          ]
        }
      ]
    },
    {
      "cell_type": "markdown",
      "source": [
        "Using scipy.odeint:"
      ],
      "metadata": {
        "id": "BBrh0_eLovrx"
      }
    },
    {
      "cell_type": "code",
      "source": [
        "def f(t,x):\n",
        "  k = 1\n",
        "  alpha = 0\n",
        "  return (t[1],k*alpha*t[0]-k*alpha*t[0]**2)\n",
        "\n",
        "y0 = [0.4,1]\n",
        "x = np.linspace( 1, 5, 100 )\n",
        "t = odeint( f, y0, x )\n",
        "y = t[:,0]\n",
        "plt.plot(x,y,\"r-\")\n",
        "plt.xlabel(\"t\")\n",
        "plt.ylabel(\"x\")\n",
        "plt.title(\"Using scipy.odeint\")\n",
        "plt.show()"
      ],
      "metadata": {
        "colab": {
          "base_uri": "https://localhost:8080/",
          "height": 295
        },
        "id": "8Pzizds_meLl",
        "outputId": "3968561c-81ad-4021-f88c-d1df2b7954c1"
      },
      "execution_count": null,
      "outputs": [
        {
          "output_type": "display_data",
          "data": {
            "text/plain": [
              "<Figure size 432x288 with 1 Axes>"
            ],
            "image/png": "[encoded data removed]"
          },
          "metadata": {
            "needs_background": "light"
          }
        }
      ]
    },
    {
      "cell_type": "markdown",
      "source": [
        "(e)\n",
        "\n",
        "Solving the equation using rk2, this time with α = 0.09:"
      ],
      "metadata": {
        "id": "rJRtmbxA6zoH"
      }
    },
    {
      "cell_type": "code",
      "source": [
        "x = 1\n",
        "x0 = 0\n",
        "y0 = 0.4\n",
        "h = 0.3\n",
        "\n",
        "k = 1\n",
        "alpha = 0.9\n",
        "\n",
        "print( \"y = \", rk2( x, x0, y0, h, k, alpha ) )"
      ],
      "metadata": {
        "colab": {
          "base_uri": "https://localhost:8080/"
        },
        "id": "g5LoMkLi7xeG",
        "outputId": "17297c51-980b-4d82-f324-08a6b59f0356"
      },
      "execution_count": null,
      "outputs": [
        {
          "output_type": "stream",
          "name": "stdout",
          "text": [
            "y =  0.562785442423739\n"
          ]
        }
      ]
    },
    {
      "cell_type": "markdown",
      "source": [
        "Using rk4 with α = 0.09:"
      ],
      "metadata": {
        "id": "N5nFQeibxCIq"
      }
    },
    {
      "cell_type": "code",
      "source": [
        "def f(t, x):\n",
        "  k = 1\n",
        "  alpha = 0.9\n",
        "  return k * x * ( 1 - alpha * x )\n",
        "\n",
        "def rk4( x0, y0, xn, h ):\n",
        "    N = math.ceil( (x - x0) / h )\n",
        "\n",
        "    for i in range(N):\n",
        "        K1 = f( x0, y0 ) * h\n",
        "        K2 = f( ( x0 + h / 2 ), ( y0 + K1  /2 ) ) * h\n",
        "        K3 = f( ( x0 + h / 2 ), ( y0 + K2 / 2 ) ) * h\n",
        "        K4 = f( ( x0 + h ), ( y0 + K3 ) ) * h\n",
        "\n",
        "        yn = y0 + ( K1 + 2 * K2 + 2 * K3 + K4 ) / 6\n",
        "\n",
        "        x0 += h\n",
        "        y0 = yn\n",
        "\n",
        "    return yn\n",
        "\n",
        "x0 = 0\n",
        "y0 = 0.4\n",
        "xn = 1\n",
        "h = 0.3\n",
        "\n",
        "print( \"y_final = \", rk4( x0, y0, xn, h ) )"
      ],
      "metadata": {
        "colab": {
          "base_uri": "https://localhost:8080/"
        },
        "id": "vDMM8BuYxEZs",
        "outputId": "7f5b8d30-fd3e-4ea2-b555-4284e2d0bfb4"
      },
      "execution_count": null,
      "outputs": [
        {
          "output_type": "stream",
          "name": "stdout",
          "text": [
            "y_final =  0.7236340974610814\n"
          ]
        }
      ]
    },
    {
      "cell_type": "markdown",
      "source": [
        "Using scipy.odeint to plot the results with α = 0.09:"
      ],
      "metadata": {
        "id": "lsbmGfBro1Jd"
      }
    },
    {
      "cell_type": "code",
      "source": [
        "def f(t,x):\n",
        "  k = 1\n",
        "  alpha = 0.9\n",
        "  return (t[1],k*alpha*t[0]-k*alpha*t[0]**2)\n",
        "\n",
        "y0 = [0.4,1]\n",
        "x = np.linspace( 1, 5, 100 )\n",
        "t = odeint( f, y0, x )\n",
        "y = t[:,0]\n",
        "plt.plot(x,y,\"r-\")\n",
        "plt.xlabel(\"t\")\n",
        "plt.ylabel(\"x\")\n",
        "plt.title(\"Using scipy.odeint\")\n",
        "plt.show()"
      ],
      "metadata": {
        "colab": {
          "base_uri": "https://localhost:8080/",
          "height": 295
        },
        "id": "e3iDYYino3Te",
        "outputId": "1392604a-a968-441c-ee4d-460e494ef364"
      },
      "execution_count": null,
      "outputs": [
        {
          "output_type": "display_data",
          "data": {
            "text/plain": [
              "<Figure size 432x288 with 1 Axes>"
            ],
            "image/png": "[encoded data removed]"
          },
          "metadata": {
            "needs_background": "light"
          }
        }
      ]
    },
    {
      "cell_type": "markdown",
      "source": [
        "#2. Modified-Euler Algorithm"
      ],
      "metadata": {
        "id": "uvFrYzoCeX-L"
      }
    },
    {
      "cell_type": "markdown",
      "source": [
        "Solving the anharmonic oscillator problem by using the Modified-Euler\n",
        "algorithm:"
      ],
      "metadata": {
        "id": "vA44uReoX3d1"
      }
    },
    {
      "cell_type": "code",
      "source": [
        "def f(t, x, k, alpha):\n",
        "  return k * x * ( 1 - alpha * x )\n",
        "\n",
        "def ModifiedEuler( t, tn, y, h, k, alpha ):\n",
        "  while( t < tn ):\n",
        "\n",
        "    # predict value\n",
        "    y_n1_p = y + h * f(t, y, k, alpha)\n",
        "\n",
        "    # correct predicted value\n",
        "    y_n1_c = y_n1_p\n",
        "    while ( abs( y_n1_c - y_n1_p ) > 1 ):\n",
        "        y_n1_p = y_n1_c\n",
        "        y_n1_c = y + h * ( f(t, y, k, alpha ) + f( t+h, y_n1_p, k, alpha ) ) / 2\n",
        "\n",
        "    y = y_n1_c\n",
        "    t = t + h\n",
        "\n",
        "  return t, y\n",
        "\n",
        "if __name__ == '__main__':\n",
        "  k = 1\n",
        "  alpha = 0.9\n",
        "\n",
        "  # initial conditions\n",
        "  x = 0\n",
        "  y = 0.4\n",
        "\n",
        "  x_final = 1\n",
        "  h = 0.1\n",
        "\n",
        "  t, y = ModifiedEuler( x, x_final, y, h, k, alpha )\n",
        "\n",
        "  print( \"y_final = \", y )"
      ],
      "metadata": {
        "colab": {
          "base_uri": "https://localhost:8080/"
        },
        "id": "kt55SE24eYP9",
        "outputId": "7c1ef841-7cfd-4e97-924c-f329d187d5ac"
      },
      "execution_count": null,
      "outputs": [
        {
          "output_type": "stream",
          "name": "stdout",
          "text": [
            "y_final =  0.6977443229903537\n"
          ]
        }
      ]
    }
  ]
}